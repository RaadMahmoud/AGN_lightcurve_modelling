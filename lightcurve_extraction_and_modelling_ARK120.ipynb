{
 "cells": [
  {
   "cell_type": "markdown",
   "metadata": {},
   "source": [
    "# Section 1) Data extraction. Here we extract light curves from our three energy bands, interpolate and rebin them, and derive their cross correlation functions.\n",
    "# No modelling is performed in this section."
   ]
  },
  {
   "cell_type": "code",
   "execution_count": 34,
   "metadata": {},
   "outputs": [],
   "source": [
    "from pylab import *\n",
    "import numpy as np\n",
    "import matplotlib.pyplot as plt\n",
    "font = {'family' : 'normal',\n",
    "        'style'  : 'italic',\n",
    "        'size'   : 15} # or 10 for triplot\n",
    "matplotlib.rc('font', **font)\n",
    "%matplotlib inline\n",
    "import scipy.optimize\n",
    "pi = np.pi"
   ]
  },
  {
   "cell_type": "markdown",
   "metadata": {},
   "source": [
    "Set up binning scales in wavelength, energy and time."
   ]
  },
  {
   "cell_type": "code",
   "execution_count": 35,
   "metadata": {},
   "outputs": [],
   "source": [
    "dt_sim = 0.05\n",
    "dt_dat= 0.05\n",
    "dt_rebn = 0.5\n",
    "\n",
    "taus = np.arange(-20, 20, dt_rebn)\n",
    "\n",
    "wav_range = np.array((3465, 2246))\n",
    "\n",
    "E_range = 12.398/wav_range\n",
    "dE_range = np.array((12.398/5050 - 12.398/5800,\\\n",
    "                     12.398/3900 - 12.398/4900))\n",
    "\n",
    "E_range = np.append(E_range, 5.15)\n",
    "dE_range = np.append(dE_range, 9.7)\n",
    "\n",
    "dE_range = dE_range/2.\n",
    "\n",
    "E_UVM2 = E_range[1]\n",
    "dE_UVM2 = dE_range[1]"
   ]
  },
  {
   "cell_type": "markdown",
   "metadata": {},
   "source": [
    "Extract the raw light curves, and set up time bins in each."
   ]
  },
  {
   "cell_type": "code",
   "execution_count": 36,
   "metadata": {},
   "outputs": [],
   "source": [
    "data = np.genfromtxt(\"/home/raad/PhD/Dropbox/Code/ARK120/ark_120_u.txt\")\n",
    "MJD_U = data[:,0]\n",
    "flux_U = data[:,1]\n",
    "flux_err_U = data[:,2]\n",
    "\n",
    "\n",
    "data = np.genfromtxt(\"/home/raad/PhD/Dropbox/Code/ARK120/ark_120_xrt.txt\")\n",
    "MJD_X = data[:,0]\n",
    "flux_X = data[:,1]\n",
    "flux_err_X = data[:,2]\n",
    "\n",
    "data = np.genfromtxt(\"/home/raad/PhD/Dropbox/Code/ARK120/ark_120_uvm2.txt\")\n",
    "MJD_UVM2 = data[:,0]\n",
    "flux_UVM2 = data[:,1]\n",
    "flux_err_UVM2 = data[:,2]\n",
    "\n",
    "dt_U = MJD_U[1:] - MJD_U[:-1]\n",
    "\n",
    "dt_X = MJD_X[1:] - MJD_X[:-1]\n",
    "\n",
    "dt_UVM2 = MJD_UVM2[1:] - MJD_UVM2[:-1]"
   ]
  },
  {
   "cell_type": "code",
   "execution_count": 37,
   "metadata": {},
   "outputs": [],
   "source": [
    "\n",
    "comparison_times = np.arange(MJD_UVM2[0], MJD_UVM2[-1], dt_dat)\n",
    "flux_U_int = np.interp(comparison_times, MJD_U, flux_U)\n",
    "flux_X_int = np.interp(comparison_times, MJD_X, flux_X)\n",
    "flux_UVM2_int = np.interp(comparison_times, MJD_UVM2, flux_UVM2)\n",
    "flux_err_U_int = np.interp(comparison_times, MJD_U, flux_err_U)\n",
    "flux_err_X_int = np.interp(comparison_times, MJD_X, flux_err_X)\n",
    "flux_err_UVM2_int = np.interp(comparison_times, MJD_UVM2, flux_err_UVM2)"
   ]
  },
  {
   "cell_type": "code",
   "execution_count": 38,
   "metadata": {},
   "outputs": [],
   "source": [
    "bins = np.arange(MJD_UVM2[0], MJD_UVM2[-1], dt_rebn)\n",
    "digitized = np.digitize(comparison_times[3:-3], bins)\n",
    "comparison_times_rebn = np.asarray([comparison_times[3:-3][digitized == i].mean() for i in range(1, len(bins))])\n",
    "flux_U_rebn = np.asarray([flux_U_int[3:-3][digitized == i].mean() for i in range(1, len(bins))])\n",
    "flux_X_rebn = np.asarray([flux_X_int[3:-3][digitized == i].mean() for i in range(1, len(bins))])\n",
    "flux_UVM2_rebn = np.asarray([flux_UVM2_int[3:-3][digitized == i].mean() for i in range(1, len(bins))])\n",
    "flux_err_U_rebn = np.asarray([flux_err_U_int[3:-3][digitized == i].mean() for i in range(1, len(bins))])\n",
    "flux_err_X_rebn = np.asarray([flux_err_X_int[3:-3][digitized == i].mean() for i in range(1, len(bins))])\n",
    "flux_err_UVM2_rebn = np.asarray([flux_err_UVM2_int[3:-3][digitized == i].mean() for i in range(1, len(bins))])\n"
   ]
  },
  {
   "cell_type": "code",
   "execution_count": 39,
   "metadata": {},
   "outputs": [
    {
     "data": {
      "text/plain": [
       "Text(0,0.5,'X')"
      ]
     },
     "execution_count": 39,
     "metadata": {},
     "output_type": "execute_result"
    },
    {
     "data": {
      "image/png": "[encoded data removed]",
      "text/plain": [
       "<Figure size 432x288 with 3 Axes>"
      ]
     },
     "metadata": {},
     "output_type": "display_data"
    }
   ],
   "source": [
    "\n",
    "f, (ax3, ax5, ax8) = plt.subplots(3, sharex = True)\n",
    "ax3.errorbar(MJD_U, flux_U, flux_err_U, label = 'U', c='b', ls = 'none', fmt = 'x')\n",
    "ax3.set_ylabel('U')\n",
    "ax5.errorbar(MJD_UVM2, flux_UVM2, flux_err_UVM2 , label = 'UVM2', c='pink', ls = 'none', fmt = 'x')\n",
    "ax5.set_ylabel('UVM2')\n",
    "ax8.errorbar(MJD_X, flux_X, flux_err_X, label = 'X', c='k', ls = 'none', fmt = 'x')\n",
    "ax8.set_ylabel('X')"
   ]
  },
  {
   "cell_type": "code",
   "execution_count": 40,
   "metadata": {},
   "outputs": [],
   "source": [
    "def CCF(s, h, dt, s_err = 0, h_err=0, s_int_err = 0, h_int_err = 0):  \n",
    "    \n",
    "    if type(s_err)==int :\n",
    "        s_err = np.zeros(len(s))\n",
    "    if type(h_err)==int:\n",
    "        h_err = np.zeros(len(h))\n",
    "    \n",
    "    lens = len(s)\n",
    "\n",
    "    corrs = np.zeros(len(taus))\n",
    "    \n",
    "    for j in range(len(taus)):\n",
    "        tau = taus[j]\n",
    "        di = int(tau/dt)\n",
    "        if abs(di) < lens:\n",
    "            if di > 0:\n",
    "                '''imagine s staying fixed and h 'rolling'  forward by di beneath it'''\n",
    "                s_up = s[:-di]\n",
    "                s_err_up = s_err[:-di]\n",
    "                h_up = h[di:]\n",
    "                h_err_up = h_err[di:]\n",
    "            elif di == 0:\n",
    "                s_up = s\n",
    "                s_err_up = s_err\n",
    "                h_up = h\n",
    "                h_err_up = h_err\n",
    "            else:\n",
    "                s_up = s[abs(di):]\n",
    "                s_err_up = s_err[abs(di):]\n",
    "                h_up = h[:-abs(di)]\n",
    "                h_err_up = h_err[:-abs(di)]     \n",
    "            save = np.average(s_up)\n",
    "            have = np.average(h_up)\n",
    "            sig_s = np.var(s_up)\n",
    "            sig_h = np.var(h_up)\n",
    "            sig_s_err = np.var(s_err_up)\n",
    "            sig_h_err = np.var(h_err_up)\n",
    "            lens_up = len(s_up)\n",
    "            \n",
    "            corrs[j] = np.sum((s_up - save) * (h_up - have)) / lens_up\n",
    "            corrs[j] = corrs[j] / ((sig_s * (1 - s_int_err) - sig_s_err) * (sig_h * (1-h_int_err) - sig_h_err))**0.5\n",
    "        \n",
    "    return corrs"
   ]
  },
  {
   "cell_type": "code",
   "execution_count": 41,
   "metadata": {},
   "outputs": [],
   "source": [
    "\n",
    "\n",
    "def gaussian(x, amp_A, sig2_A, amp_B, sig2_B, K):\n",
    "    return amp_A / np.sqrt(2*pi*sig2_A) * np.exp( - (x)**2 / (2*sig2_A)) + amp_B / np.sqrt(2*pi*sig2_B) * np.exp( - (x)**2 / (2*sig2_B)) + K\n",
    "\n",
    "\n",
    "def CCF_corrected(s, h, dt, s_err, h_err, mode = 'corr'):\n",
    "    if mode == 'corr':\n",
    "        ACF_s = CCF(s, s, dt_rebn, s_err, s_err)\n",
    "        params_s = scipy.optimize.curve_fit(gaussian,taus,ACF_s, maxfev = 50000)[0]\n",
    "        \n",
    "        ACF_h = CCF(h, h, dt_rebn, h_err, h_err)\n",
    "        params_h = scipy.optimize.curve_fit(gaussian,taus,ACF_h, maxfev = 50000)[0]\n",
    "        \n",
    "        #f, ax = plt.subplots()\n",
    "        #ax.plot(taus,ACF_s)\n",
    "        #ax.plot(taus, gaussian(taus, params_s[0], params_s[1], params_s[2], params_s[3], params_s[4]))\n",
    "        #ax.plot(taus,ACF_h)\n",
    "        #ax.plot(taus, gaussian(taus, params_h[0], params_h[1], params_h[2], params_h[3], params_h[4]))\n",
    "        \n",
    "        \n",
    "        sig2_e_s_rat = min(params_s[1], params_s[3]) / max(params_s[1], params_s[3])\n",
    "        sig2_e_h_rat = min(params_h[1], params_h[3]) / max(params_h[1], params_h[3])\n",
    "    \n",
    "        CCF_corr = CCF(s, h, dt, s_err, h_err, sig2_e_s_rat, sig2_e_h_rat)\n",
    "    if mode == 'nocorr':\n",
    "        CCF_corr = CCF(s, h, dt, s_err, h_err) \n",
    "\n",
    "    return CCF_corr[::-1]\n"
   ]
  },
  {
   "cell_type": "code",
   "execution_count": 43,
   "metadata": {},
   "outputs": [
    {
     "name": "stderr",
     "output_type": "stream",
     "text": [
      "/home/raad/anaconda2/lib/python2.7/site-packages/ipykernel_launcher.py:4: RuntimeWarning: invalid value encountered in sqrt\n",
      "  after removing the cwd from sys.path.\n",
      "/home/raad/anaconda2/lib/python2.7/site-packages/ipykernel_launcher.py:4: RuntimeWarning: overflow encountered in exp\n",
      "  after removing the cwd from sys.path.\n"
     ]
    },
    {
     "data": {
      "image/png": "[encoded data removed]",
      "text/plain": [
       "<Figure size 432x288 with 1 Axes>"
      ]
     },
     "metadata": {},
     "output_type": "display_data"
    }
   ],
   "source": [
    "CCF_X = CCF_corrected(flux_UVM2_rebn, flux_X_rebn, dt_rebn, flux_err_UVM2_rebn, flux_err_X_rebn)\n",
    "CCF_UVM2 = CCF_corrected(flux_UVM2_rebn, flux_UVM2_rebn, dt_rebn, flux_err_UVM2_rebn, flux_err_UVM2_rebn)\n",
    "CCF_U = CCF_corrected(flux_UVM2_rebn, flux_U_rebn, dt_rebn, flux_err_UVM2_rebn, flux_err_U_rebn)\n",
    "\n",
    "\n",
    "f, ax = plt.subplots()\n",
    "ax.plot(taus, CCF_X, c = 'k', alpha = 2/7.)\n",
    "ax.plot(taus, CCF_UVM2, c = 'k', alpha = 4/7.)\n",
    "ax.plot(taus, CCF_U, c = 'k', alpha = 5/7.)\n",
    "ax.set_title('CCF wrt UVM2. Darker lines are longer wavelength. BAT is palest.')\n",
    "ax.set_xlabel('tau (days)')\n",
    "ax.set_ylabel('normalised CCF')\n",
    "plt.show()\n"
   ]
  },
  {
   "cell_type": "code",
   "execution_count": null,
   "metadata": {},
   "outputs": [],
   "source": []
  },
  {
   "cell_type": "code",
   "execution_count": null,
   "metadata": {},
   "outputs": [],
   "source": []
  }
 ],
 "metadata": {
  "kernelspec": {
   "display_name": "Python 2",
   "language": "python",
   "name": "python2"
  },
  "language_info": {
   "codemirror_mode": {
    "name": "ipython",
    "version": 2
   },
   "file_extension": ".py",
   "mimetype": "text/x-python",
   "name": "python",
   "nbconvert_exporter": "python",
   "pygments_lexer": "ipython2",
   "version": "2.7.3"
  }
 },
 "nbformat": 4,
 "nbformat_minor": 2
}
