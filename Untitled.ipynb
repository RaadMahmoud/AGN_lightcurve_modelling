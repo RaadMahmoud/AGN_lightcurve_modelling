{
 "cells": [
  {
   "cell_type": "code",
   "execution_count": 1,
   "metadata": {},
   "outputs": [],
   "source": [
    "from pylab import *\n",
    "import numpy as np\n",
    "import matplotlib.pyplot as plt\n",
    "font = {'family' : 'normal',\n",
    "        'style'  : 'italic',\n",
    "        'size'   : 15} # or 10 for triplot\n",
    "matplotlib.rc('font', **font)\n",
    "%matplotlib inline\n",
    "import scipy.optimize\n",
    "import csv\n",
    "pi = np.pi"
   ]
  },
  {
   "cell_type": "code",
   "execution_count": 2,
   "metadata": {},
   "outputs": [],
   "source": [
    "dt_sim = 0.05\n",
    "dt_dat= 0.05\n",
    "dt_rebn = 0.5\n",
    "\n",
    "taus = np.arange(-20, 20, dt_rebn)\n",
    "\n",
    "wav_range = np.array((5468, 4392, 3465, 2600, 2246, 1928, 25.3, 4.4))\n",
    "dwav_range = np.array((5800-5050, 4900-3900,3900-3050,2950-2250,2500-2000,2250-1650, 41.3-15.5, 15.5-1.2))\n",
    "\n",
    "E_range = 12.398/wav_range\n",
    "dE_range = np.array((12.398/5050 - 12.398/5800,\\\n",
    "            12.398/3900 - 12.398/4900,\\\n",
    "            12.398/3050 - 12.398/3900,\n",
    "            12.398/2250 - 12.398/2950,\n",
    "            12.398/2000 - 12.398/2500,\n",
    "            12.398/1650 - 12.398/2250,\n",
    "            12.398/15.5 - 12.398/41.3,\n",
    "            12.398/1.20 - 12.398/15.5))\n",
    "\n",
    "dE_range = dE_range/2.\n",
    "dwav_range = dwav_range/2.\n",
    "\n",
    "E_UVW1 = E_range[3]\n",
    "dE_UVW1 = dE_range[3]"
   ]
  },
  {
   "cell_type": "code",
   "execution_count": null,
   "metadata": {},
   "outputs": [],
   "source": []
  }
 ],
 "metadata": {
  "kernelspec": {
   "display_name": "Python 2",
   "language": "python",
   "name": "python2"
  },
  "language_info": {
   "codemirror_mode": {
    "name": "ipython",
    "version": 2
   },
   "file_extension": ".py",
   "mimetype": "text/x-python",
   "name": "python",
   "nbconvert_exporter": "python",
   "pygments_lexer": "ipython2",
   "version": "2.7.3"
  }
 },
 "nbformat": 4,
 "nbformat_minor": 2
}
